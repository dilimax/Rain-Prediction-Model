{
 "cells": [
  {
   "cell_type": "code",
   "execution_count": 1,
   "id": "63a3c1e8",
   "metadata": {},
   "outputs": [],
   "source": [
    "# Surpress warnings:\n",
    "def warn(*args, **kwargs):\n",
    "    pass\n",
    "import warnings\n",
    "warnings.warn = warn"
   ]
  },
  {
   "cell_type": "code",
   "execution_count": 2,
   "id": "118d2e88",
   "metadata": {},
   "outputs": [],
   "source": [
    "# Importing the required library\n",
    "\n",
    "import pandas as pd\n",
    "from sklearn.linear_model import LogisticRegression\n",
    "from sklearn.linear_model import LinearRegression\n",
    "from sklearn import preprocessing\n",
    "import numpy as np\n",
    "from sklearn.neighbors import KNeighborsClassifier\n",
    "from sklearn.model_selection import train_test_split\n",
    "from sklearn.neighbors import KNeighborsClassifier\n",
    "from sklearn.tree import DecisionTreeClassifier\n",
    "from sklearn import svm\n",
    "from sklearn.metrics import jaccard_score\n",
    "from sklearn.metrics import f1_score\n",
    "from sklearn.metrics import log_loss\n",
    "from sklearn.metrics import confusion_matrix, accuracy_score\n",
    "import sklearn.metrics as metrics\n"
   ]
  },
  {
   "cell_type": "code",
   "execution_count": 3,
   "id": "67ccad1b",
   "metadata": {},
   "outputs": [],
   "source": [
    "# The dataset url\n",
    "# path='https://cf-courses-data.s3.us.cloud-object-storage.appdomain.cloud/IBMDeveloperSkillsNetwork-ML0101EN-SkillUp/labs/ML-FinalAssignment/Weather_Data.csv'"
   ]
  },
  {
   "cell_type": "code",
   "execution_count": 4,
   "id": "11f232e6",
   "metadata": {},
   "outputs": [
    {
     "data": {
      "text/html": [
       "<div>\n",
       "<style scoped>\n",
       "    .dataframe tbody tr th:only-of-type {\n",
       "        vertical-align: middle;\n",
       "    }\n",
       "\n",
       "    .dataframe tbody tr th {\n",
       "        vertical-align: top;\n",
       "    }\n",
       "\n",
       "    .dataframe thead th {\n",
       "        text-align: right;\n",
       "    }\n",
       "</style>\n",
       "<table border=\"1\" class=\"dataframe\">\n",
       "  <thead>\n",
       "    <tr style=\"text-align: right;\">\n",
       "      <th></th>\n",
       "      <th>Date</th>\n",
       "      <th>MinTemp</th>\n",
       "      <th>MaxTemp</th>\n",
       "      <th>Rainfall</th>\n",
       "      <th>Evaporation</th>\n",
       "      <th>Sunshine</th>\n",
       "      <th>WindGustDir</th>\n",
       "      <th>WindGustSpeed</th>\n",
       "      <th>WindDir9am</th>\n",
       "      <th>WindDir3pm</th>\n",
       "      <th>...</th>\n",
       "      <th>Humidity9am</th>\n",
       "      <th>Humidity3pm</th>\n",
       "      <th>Pressure9am</th>\n",
       "      <th>Pressure3pm</th>\n",
       "      <th>Cloud9am</th>\n",
       "      <th>Cloud3pm</th>\n",
       "      <th>Temp9am</th>\n",
       "      <th>Temp3pm</th>\n",
       "      <th>RainToday</th>\n",
       "      <th>RainTomorrow</th>\n",
       "    </tr>\n",
       "  </thead>\n",
       "  <tbody>\n",
       "    <tr>\n",
       "      <th>0</th>\n",
       "      <td>2/1/2008</td>\n",
       "      <td>19.5</td>\n",
       "      <td>22.4</td>\n",
       "      <td>15.6</td>\n",
       "      <td>6.2</td>\n",
       "      <td>0.0</td>\n",
       "      <td>W</td>\n",
       "      <td>41</td>\n",
       "      <td>S</td>\n",
       "      <td>SSW</td>\n",
       "      <td>...</td>\n",
       "      <td>92</td>\n",
       "      <td>84</td>\n",
       "      <td>1017.6</td>\n",
       "      <td>1017.4</td>\n",
       "      <td>8</td>\n",
       "      <td>8</td>\n",
       "      <td>20.7</td>\n",
       "      <td>20.9</td>\n",
       "      <td>Yes</td>\n",
       "      <td>Yes</td>\n",
       "    </tr>\n",
       "    <tr>\n",
       "      <th>1</th>\n",
       "      <td>2/2/2008</td>\n",
       "      <td>19.5</td>\n",
       "      <td>25.6</td>\n",
       "      <td>6.0</td>\n",
       "      <td>3.4</td>\n",
       "      <td>2.7</td>\n",
       "      <td>W</td>\n",
       "      <td>41</td>\n",
       "      <td>W</td>\n",
       "      <td>E</td>\n",
       "      <td>...</td>\n",
       "      <td>83</td>\n",
       "      <td>73</td>\n",
       "      <td>1017.9</td>\n",
       "      <td>1016.4</td>\n",
       "      <td>7</td>\n",
       "      <td>7</td>\n",
       "      <td>22.4</td>\n",
       "      <td>24.8</td>\n",
       "      <td>Yes</td>\n",
       "      <td>Yes</td>\n",
       "    </tr>\n",
       "    <tr>\n",
       "      <th>2</th>\n",
       "      <td>2/3/2008</td>\n",
       "      <td>21.6</td>\n",
       "      <td>24.5</td>\n",
       "      <td>6.6</td>\n",
       "      <td>2.4</td>\n",
       "      <td>0.1</td>\n",
       "      <td>W</td>\n",
       "      <td>41</td>\n",
       "      <td>ESE</td>\n",
       "      <td>ESE</td>\n",
       "      <td>...</td>\n",
       "      <td>88</td>\n",
       "      <td>86</td>\n",
       "      <td>1016.7</td>\n",
       "      <td>1015.6</td>\n",
       "      <td>7</td>\n",
       "      <td>8</td>\n",
       "      <td>23.5</td>\n",
       "      <td>23.0</td>\n",
       "      <td>Yes</td>\n",
       "      <td>Yes</td>\n",
       "    </tr>\n",
       "    <tr>\n",
       "      <th>3</th>\n",
       "      <td>2/4/2008</td>\n",
       "      <td>20.2</td>\n",
       "      <td>22.8</td>\n",
       "      <td>18.8</td>\n",
       "      <td>2.2</td>\n",
       "      <td>0.0</td>\n",
       "      <td>W</td>\n",
       "      <td>41</td>\n",
       "      <td>NNE</td>\n",
       "      <td>E</td>\n",
       "      <td>...</td>\n",
       "      <td>83</td>\n",
       "      <td>90</td>\n",
       "      <td>1014.2</td>\n",
       "      <td>1011.8</td>\n",
       "      <td>8</td>\n",
       "      <td>8</td>\n",
       "      <td>21.4</td>\n",
       "      <td>20.9</td>\n",
       "      <td>Yes</td>\n",
       "      <td>Yes</td>\n",
       "    </tr>\n",
       "    <tr>\n",
       "      <th>4</th>\n",
       "      <td>2/5/2008</td>\n",
       "      <td>19.7</td>\n",
       "      <td>25.7</td>\n",
       "      <td>77.4</td>\n",
       "      <td>4.8</td>\n",
       "      <td>0.0</td>\n",
       "      <td>W</td>\n",
       "      <td>41</td>\n",
       "      <td>NNE</td>\n",
       "      <td>W</td>\n",
       "      <td>...</td>\n",
       "      <td>88</td>\n",
       "      <td>74</td>\n",
       "      <td>1008.3</td>\n",
       "      <td>1004.8</td>\n",
       "      <td>8</td>\n",
       "      <td>8</td>\n",
       "      <td>22.5</td>\n",
       "      <td>25.5</td>\n",
       "      <td>Yes</td>\n",
       "      <td>Yes</td>\n",
       "    </tr>\n",
       "  </tbody>\n",
       "</table>\n",
       "<p>5 rows × 22 columns</p>\n",
       "</div>"
      ],
      "text/plain": [
       "       Date  MinTemp  MaxTemp  Rainfall  Evaporation  Sunshine WindGustDir  \\\n",
       "0  2/1/2008     19.5     22.4      15.6          6.2       0.0           W   \n",
       "1  2/2/2008     19.5     25.6       6.0          3.4       2.7           W   \n",
       "2  2/3/2008     21.6     24.5       6.6          2.4       0.1           W   \n",
       "3  2/4/2008     20.2     22.8      18.8          2.2       0.0           W   \n",
       "4  2/5/2008     19.7     25.7      77.4          4.8       0.0           W   \n",
       "\n",
       "   WindGustSpeed WindDir9am WindDir3pm  ...  Humidity9am  Humidity3pm  \\\n",
       "0             41          S        SSW  ...           92           84   \n",
       "1             41          W          E  ...           83           73   \n",
       "2             41        ESE        ESE  ...           88           86   \n",
       "3             41        NNE          E  ...           83           90   \n",
       "4             41        NNE          W  ...           88           74   \n",
       "\n",
       "   Pressure9am  Pressure3pm  Cloud9am  Cloud3pm  Temp9am  Temp3pm  RainToday  \\\n",
       "0       1017.6       1017.4         8         8     20.7     20.9        Yes   \n",
       "1       1017.9       1016.4         7         7     22.4     24.8        Yes   \n",
       "2       1016.7       1015.6         7         8     23.5     23.0        Yes   \n",
       "3       1014.2       1011.8         8         8     21.4     20.9        Yes   \n",
       "4       1008.3       1004.8         8         8     22.5     25.5        Yes   \n",
       "\n",
       "   RainTomorrow  \n",
       "0           Yes  \n",
       "1           Yes  \n",
       "2           Yes  \n",
       "3           Yes  \n",
       "4           Yes  \n",
       "\n",
       "[5 rows x 22 columns]"
      ]
     },
     "execution_count": 4,
     "metadata": {},
     "output_type": "execute_result"
    }
   ],
   "source": [
    "# Importing the data\n",
    "\n",
    "df = pd.read_csv(r\"C:\\Users\\USER\\Downloads\\Weather_Data.csv\")\n",
    "df.head()"
   ]
  },
  {
   "cell_type": "code",
   "execution_count": 5,
   "id": "cc19612d",
   "metadata": {},
   "outputs": [],
   "source": [
    "# Data Processing\n",
    "\n",
    "# 1. One hot encoding to convert categorical variables to binary variables.\n",
    "\n",
    "df_sydney_processed = pd.get_dummies(data=df, columns=['RainToday', 'WindGustDir', 'WindDir9am', 'WindDir3pm'])"
   ]
  },
  {
   "cell_type": "code",
   "execution_count": 6,
   "id": "47e93d42",
   "metadata": {},
   "outputs": [],
   "source": [
    "# 2. Replace the values of the 'RainTomorrow' column changing them from a categorical column to a binary column\n",
    "\n",
    "df_sydney_processed.replace(['No', 'Yes'], [0,1], inplace=True)"
   ]
  },
  {
   "cell_type": "code",
   "execution_count": 11,
   "id": "76f79830",
   "metadata": {},
   "outputs": [],
   "source": [
    "# Training Data and Test Data\n",
    "\n",
    "df_sydney_processed.drop('Date',axis=1,inplace=True)"
   ]
  },
  {
   "cell_type": "code",
   "execution_count": 12,
   "id": "d23c0978",
   "metadata": {},
   "outputs": [],
   "source": [
    "df_sydney_processed = df_sydney_processed.astype(float)"
   ]
  },
  {
   "cell_type": "code",
   "execution_count": 13,
   "id": "d02bc867",
   "metadata": {},
   "outputs": [],
   "source": [
    "features = df_sydney_processed.drop(columns='RainTomorrow', axis=1)\n",
    "Y = df_sydney_processed['RainTomorrow']"
   ]
  },
  {
   "cell_type": "code",
   "execution_count": 14,
   "id": "599b42ed",
   "metadata": {},
   "outputs": [
    {
     "data": {
      "text/plain": [
       "array(['Yes', 'Yes', 'Yes', 'Yes', 'Yes'], dtype=object)"
      ]
     },
     "execution_count": 14,
     "metadata": {},
     "output_type": "execute_result"
    }
   ],
   "source": [
    "y = df['RainTomorrow'].values\n",
    "y[0:5]"
   ]
  },
  {
   "cell_type": "code",
   "execution_count": 16,
   "id": "6ff93c00",
   "metadata": {},
   "outputs": [
    {
     "name": "stdout",
     "output_type": "stream",
     "text": [
      "Train set: (2616,) (2616,)\n",
      "Test set: (655,) (655,)\n"
     ]
    }
   ],
   "source": [
    "# Use the train_test_split function to split the features and Y dataframes with a test_size of 0.2 and the random_state set to 10\n",
    "\n",
    "from sklearn.model_selection import train_test_split\n",
    "\n",
    "# Split the data into training and testing sets\n",
    "X_train, X_test, y_train, y_test = train_test_split(features, Y, test_size=0.2, random_state=10)\n",
    "\n",
    "# Now X_train and y_train are your training features and labels\n",
    "# X_test and y_test are your testing features and labels\n",
    "print ('Train set:', y_train.shape,  y_train.shape)\n",
    "print ('Test set:', y_test.shape,  y_test.shape)"
   ]
  },
  {
   "cell_type": "code",
   "execution_count": 17,
   "id": "73e668f0",
   "metadata": {},
   "outputs": [
    {
     "data": {
      "text/plain": [
       "Index(['Date', 'MinTemp', 'MaxTemp', 'Rainfall', 'Evaporation', 'Sunshine',\n",
       "       'WindGustDir', 'WindGustSpeed', 'WindDir9am', 'WindDir3pm',\n",
       "       'WindSpeed9am', 'WindSpeed3pm', 'Humidity9am', 'Humidity3pm',\n",
       "       'Pressure9am', 'Pressure3pm', 'Cloud9am', 'Cloud3pm', 'Temp9am',\n",
       "       'Temp3pm', 'RainToday', 'RainTomorrow'],\n",
       "      dtype='object')"
      ]
     },
     "execution_count": 17,
     "metadata": {},
     "output_type": "execute_result"
    }
   ],
   "source": [
    "df.columns"
   ]
  },
  {
   "cell_type": "code",
   "execution_count": 18,
   "id": "c66b03e5",
   "metadata": {},
   "outputs": [
    {
     "data": {
      "text/plain": [
       "array([[19.5, 22.4, 15.6, 6.2, 0.0, 'W', 41, 'S', 'SSW', 17, 20, 92, 84,\n",
       "        1017.6, 1017.4, 8, 8, 20.7, 20.9, 'Yes', 'Yes'],\n",
       "       [19.5, 25.6, 6.0, 3.4, 2.7, 'W', 41, 'W', 'E', 9, 13, 83, 73,\n",
       "        1017.9, 1016.4, 7, 7, 22.4, 24.8, 'Yes', 'Yes'],\n",
       "       [21.6, 24.5, 6.6, 2.4, 0.1, 'W', 41, 'ESE', 'ESE', 17, 2, 88, 86,\n",
       "        1016.7, 1015.6, 7, 8, 23.5, 23.0, 'Yes', 'Yes'],\n",
       "       [20.2, 22.8, 18.8, 2.2, 0.0, 'W', 41, 'NNE', 'E', 22, 20, 83, 90,\n",
       "        1014.2, 1011.8, 8, 8, 21.4, 20.9, 'Yes', 'Yes'],\n",
       "       [19.7, 25.7, 77.4, 4.8, 0.0, 'W', 41, 'NNE', 'W', 11, 6, 88, 74,\n",
       "        1008.3, 1004.8, 8, 8, 22.5, 25.5, 'Yes', 'Yes']], dtype=object)"
      ]
     },
     "execution_count": 18,
     "metadata": {},
     "output_type": "execute_result"
    }
   ],
   "source": [
    "X = df[[ 'MinTemp', 'MaxTemp', 'Rainfall', 'Evaporation', 'Sunshine',\n",
    "       'WindGustDir', 'WindGustSpeed', 'WindDir9am', 'WindDir3pm',\n",
    "       'WindSpeed9am', 'WindSpeed3pm', 'Humidity9am', 'Humidity3pm',\n",
    "       'Pressure9am', 'Pressure3pm', 'Cloud9am', 'Cloud3pm', 'Temp9am',\n",
    "       'Temp3pm', 'RainToday', 'RainTomorrow']] .values  #.astype(float)\n",
    "X[0:5]"
   ]
  },
  {
   "cell_type": "code",
   "execution_count": 19,
   "id": "010c94f7",
   "metadata": {},
   "outputs": [
    {
     "name": "stdout",
     "output_type": "stream",
     "text": [
      "Train set: (2616, 66) (2616,)\n",
      "Test set: (655, 66) (655,)\n"
     ]
    }
   ],
   "source": [
    "X_train, X_test, y_train, y_test = train_test_split(features, Y, test_size=0.2, random_state=10)\n",
    "\n",
    "\n",
    "print ('Train set:', X_train.shape,  y_train.shape)\n",
    "print ('Test set:', X_test.shape,  y_test.shape)"
   ]
  },
  {
   "cell_type": "code",
   "execution_count": 20,
   "id": "4c85ebc7",
   "metadata": {},
   "outputs": [
    {
     "data": {
      "text/html": [
       "<style>#sk-container-id-1 {color: black;background-color: white;}#sk-container-id-1 pre{padding: 0;}#sk-container-id-1 div.sk-toggleable {background-color: white;}#sk-container-id-1 label.sk-toggleable__label {cursor: pointer;display: block;width: 100%;margin-bottom: 0;padding: 0.3em;box-sizing: border-box;text-align: center;}#sk-container-id-1 label.sk-toggleable__label-arrow:before {content: \"▸\";float: left;margin-right: 0.25em;color: #696969;}#sk-container-id-1 label.sk-toggleable__label-arrow:hover:before {color: black;}#sk-container-id-1 div.sk-estimator:hover label.sk-toggleable__label-arrow:before {color: black;}#sk-container-id-1 div.sk-toggleable__content {max-height: 0;max-width: 0;overflow: hidden;text-align: left;background-color: #f0f8ff;}#sk-container-id-1 div.sk-toggleable__content pre {margin: 0.2em;color: black;border-radius: 0.25em;background-color: #f0f8ff;}#sk-container-id-1 input.sk-toggleable__control:checked~div.sk-toggleable__content {max-height: 200px;max-width: 100%;overflow: auto;}#sk-container-id-1 input.sk-toggleable__control:checked~label.sk-toggleable__label-arrow:before {content: \"▾\";}#sk-container-id-1 div.sk-estimator input.sk-toggleable__control:checked~label.sk-toggleable__label {background-color: #d4ebff;}#sk-container-id-1 div.sk-label input.sk-toggleable__control:checked~label.sk-toggleable__label {background-color: #d4ebff;}#sk-container-id-1 input.sk-hidden--visually {border: 0;clip: rect(1px 1px 1px 1px);clip: rect(1px, 1px, 1px, 1px);height: 1px;margin: -1px;overflow: hidden;padding: 0;position: absolute;width: 1px;}#sk-container-id-1 div.sk-estimator {font-family: monospace;background-color: #f0f8ff;border: 1px dotted black;border-radius: 0.25em;box-sizing: border-box;margin-bottom: 0.5em;}#sk-container-id-1 div.sk-estimator:hover {background-color: #d4ebff;}#sk-container-id-1 div.sk-parallel-item::after {content: \"\";width: 100%;border-bottom: 1px solid gray;flex-grow: 1;}#sk-container-id-1 div.sk-label:hover label.sk-toggleable__label {background-color: #d4ebff;}#sk-container-id-1 div.sk-serial::before {content: \"\";position: absolute;border-left: 1px solid gray;box-sizing: border-box;top: 0;bottom: 0;left: 50%;z-index: 0;}#sk-container-id-1 div.sk-serial {display: flex;flex-direction: column;align-items: center;background-color: white;padding-right: 0.2em;padding-left: 0.2em;position: relative;}#sk-container-id-1 div.sk-item {position: relative;z-index: 1;}#sk-container-id-1 div.sk-parallel {display: flex;align-items: stretch;justify-content: center;background-color: white;position: relative;}#sk-container-id-1 div.sk-item::before, #sk-container-id-1 div.sk-parallel-item::before {content: \"\";position: absolute;border-left: 1px solid gray;box-sizing: border-box;top: 0;bottom: 0;left: 50%;z-index: -1;}#sk-container-id-1 div.sk-parallel-item {display: flex;flex-direction: column;z-index: 1;position: relative;background-color: white;}#sk-container-id-1 div.sk-parallel-item:first-child::after {align-self: flex-end;width: 50%;}#sk-container-id-1 div.sk-parallel-item:last-child::after {align-self: flex-start;width: 50%;}#sk-container-id-1 div.sk-parallel-item:only-child::after {width: 0;}#sk-container-id-1 div.sk-dashed-wrapped {border: 1px dashed gray;margin: 0 0.4em 0.5em 0.4em;box-sizing: border-box;padding-bottom: 0.4em;background-color: white;}#sk-container-id-1 div.sk-label label {font-family: monospace;font-weight: bold;display: inline-block;line-height: 1.2em;}#sk-container-id-1 div.sk-label-container {text-align: center;}#sk-container-id-1 div.sk-container {/* jupyter's `normalize.less` sets `[hidden] { display: none; }` but bootstrap.min.css set `[hidden] { display: none !important; }` so we also need the `!important` here to be able to override the default hidden behavior on the sphinx rendered scikit-learn.org. See: https://github.com/scikit-learn/scikit-learn/issues/21755 */display: inline-block !important;position: relative;}#sk-container-id-1 div.sk-text-repr-fallback {display: none;}</style><div id=\"sk-container-id-1\" class=\"sk-top-container\"><div class=\"sk-text-repr-fallback\"><pre>LinearRegression()</pre><b>In a Jupyter environment, please rerun this cell to show the HTML representation or trust the notebook. <br />On GitHub, the HTML representation is unable to render, please try loading this page with nbviewer.org.</b></div><div class=\"sk-container\" hidden><div class=\"sk-item\"><div class=\"sk-estimator sk-toggleable\"><input class=\"sk-toggleable__control sk-hidden--visually\" id=\"sk-estimator-id-1\" type=\"checkbox\" checked><label for=\"sk-estimator-id-1\" class=\"sk-toggleable__label sk-toggleable__label-arrow\">LinearRegression</label><div class=\"sk-toggleable__content\"><pre>LinearRegression()</pre></div></div></div></div></div>"
      ],
      "text/plain": [
       "LinearRegression()"
      ]
     },
     "execution_count": 20,
     "metadata": {},
     "output_type": "execute_result"
    }
   ],
   "source": [
    "# Create and train a Linear Regression model called LinearReg using the training data (x_train, y_train)\n",
    "\n",
    "LinearReg =  LinearRegression()\n",
    "\n",
    "# Train the model using the training data\n",
    "LinearReg.fit(X_train, y_train)"
   ]
  },
  {
   "cell_type": "code",
   "execution_count": 21,
   "id": "4b1d0809",
   "metadata": {},
   "outputs": [
    {
     "data": {
      "text/plain": [
       "array([ 1.31792068e-01,  2.76153564e-01,  9.78164673e-01,  2.87467957e-01,\n",
       "        1.32379532e-01,  4.60479736e-01,  3.56779099e-01,  8.56395721e-01,\n",
       "        6.74995422e-01,  3.82099152e-02,  4.87899780e-03,  2.81162262e-01,\n",
       "        3.39096069e-01,  7.81078339e-02,  6.26049042e-02,  5.64468384e-01,\n",
       "       -6.15940094e-02,  5.24145126e-01,  1.53787613e-01,  3.59622955e-01,\n",
       "        6.05373383e-02,  9.03495789e-01,  4.67285156e-01,  2.03378677e-01,\n",
       "       -7.10830688e-02,  3.83918762e-01,  5.36098480e-01, -2.28557587e-02,\n",
       "        6.39991760e-01, -9.56687927e-02,  3.78091812e-01,  1.20281219e-01,\n",
       "       -1.81083679e-02,  5.53779602e-02,  5.63591003e-01,  1.06300735e+00,\n",
       "       -6.68907166e-03,  5.14431000e-01, -8.83407593e-02,  6.91757202e-02,\n",
       "        2.44922638e-02,  8.71715546e-01,  2.44647980e-01,  3.94739151e-01,\n",
       "        2.67513275e-01,  4.46716309e-01, -4.75921631e-02,  1.89382553e-01,\n",
       "        7.76576996e-01,  1.57682419e-01,  3.94630432e-03, -5.19886017e-02,\n",
       "        2.07286835e-01, -2.07841873e-01, -7.60593414e-02,  2.49639511e-01,\n",
       "        2.79277802e-01,  6.02775574e-01,  6.29608154e-01,  4.90764618e-01,\n",
       "        5.63678741e-02,  1.05485916e-01,  6.70047760e-01,  7.64842987e-01,\n",
       "        9.85107422e-02, -6.33506775e-02,  4.13799286e-01,  7.25784302e-02,\n",
       "        2.49992371e-01,  2.56444931e-01,  3.78303528e-02, -6.88705444e-02,\n",
       "        3.48220825e-01,  1.73124313e-01,  4.15410995e-01, -7.24906921e-02,\n",
       "        3.41159821e-01,  1.86988831e-01, -1.54861450e-01,  7.99762726e-01,\n",
       "        2.32391357e-01,  2.37281799e-01,  2.56145477e-01,  1.03519440e-01,\n",
       "        6.20708466e-01,  1.29676819e-01,  3.71417999e-01,  4.83024597e-01,\n",
       "        3.08223724e-01,  1.19419098e-01,  5.48324585e-02,  1.12836838e-01,\n",
       "       -1.62425995e-01, -1.58004761e-01,  7.29179382e-02,  7.76382446e-01,\n",
       "        8.42876434e-02,  6.43104553e-01,  1.21810913e-01,  1.78047180e-01,\n",
       "        3.04954529e-01,  1.85516357e-01,  1.13143539e+00,  3.44429016e-01,\n",
       "        8.26839447e-01,  5.38864136e-01,  2.74324417e-01,  6.29392624e-01,\n",
       "       -6.72283173e-02,  9.63508606e-01,  5.61845779e-01,  2.34603882e-02,\n",
       "        1.05619431e-01,  9.38205719e-02,  8.15696716e-02,  2.92020798e-01,\n",
       "        5.55057526e-01,  6.69441223e-02,  4.25205231e-02,  8.73565674e-04,\n",
       "        1.37664795e-01, -2.18009949e-01,  7.01293945e-02,  1.19739532e-01,\n",
       "        1.92686081e-01, -3.82690430e-02,  1.56007767e-01,  7.12661743e-01,\n",
       "        2.62344360e-01,  5.34873962e-01,  3.97838593e-01, -4.65564728e-02,\n",
       "        2.43961334e-01,  2.06285477e-01,  2.80405045e-01, -1.28168106e-01,\n",
       "        1.19571686e-01,  3.83335114e-01,  1.84446335e-01,  7.28527069e-01,\n",
       "        3.31760406e-01, -1.03174210e-01,  2.39515305e-01,  3.06007385e-01,\n",
       "        6.63078308e-01,  2.21290588e-02,  1.60070419e-01,  5.21629333e-01,\n",
       "       -4.33883667e-02,  7.98320770e-01,  2.21691132e-01,  3.89928818e-01,\n",
       "       -5.64155579e-02,  4.02362823e-01,  2.34159470e-01,  1.20483398e-01,\n",
       "        3.05496216e-01,  7.86258698e-01,  3.32832336e-02,  1.22548294e+00,\n",
       "        8.94659042e-01,  8.18958282e-02, -1.52072906e-02,  1.71020508e-01,\n",
       "       -6.85081482e-02, -1.07847214e-01, -5.02128601e-02,  2.98702240e-01,\n",
       "        3.57084274e-01,  9.57241058e-02,  8.85307312e-01, -3.33919525e-02,\n",
       "        5.99193573e-01,  8.95938873e-02,  9.83200073e-02,  3.54106903e-01,\n",
       "        2.35866547e-01, -6.73103333e-02,  1.44315720e-01,  4.17791367e-01,\n",
       "        5.87379456e-01,  2.16810226e-01, -3.33271027e-02,  1.00634384e+00,\n",
       "        4.25338745e-02, -1.74045563e-02,  2.48233795e-01, -5.93566895e-02,\n",
       "        2.22270966e-01, -7.19604492e-02,  8.47587585e-02,  7.15217590e-02,\n",
       "        3.49102020e-02,  4.43523407e-01,  1.86786652e-01,  1.83153152e-01,\n",
       "        7.56530762e-02,  1.36451721e-02,  1.84738159e-01,  2.32337952e-01,\n",
       "        5.30593872e-01,  1.60369873e-01,  3.95286560e-01, -4.49218750e-02,\n",
       "        8.39309692e-01,  1.66206360e-02, -1.69849396e-02, -2.14500427e-02,\n",
       "        1.46320343e-01,  1.38179779e-01, -3.34625244e-02,  4.14836884e-01,\n",
       "        6.57348633e-01, -4.88090515e-03,  2.86102295e-02,  4.61502075e-02,\n",
       "       -7.21492767e-02,  2.73809433e-01,  5.28594971e-01, -5.90763092e-02,\n",
       "        8.43151093e-01,  3.25830460e-01,  3.18897247e-01,  3.63216400e-02,\n",
       "       -8.51440430e-02,  2.83302307e-01,  3.01252365e-01,  1.37741089e-01,\n",
       "        3.35807800e-01,  4.12483215e-01,  3.75171661e-01,  1.24088287e-01,\n",
       "        2.87834167e-01,  9.06158447e-01,  4.45539474e-01,  2.74797440e-01,\n",
       "       -6.63566589e-03,  6.91795349e-01,  6.71947479e-01,  1.15367889e-01,\n",
       "        7.74551392e-01,  9.94308472e-01,  5.87669373e-01,  3.14336777e-01,\n",
       "        2.26387024e-01, -4.47521210e-02,  2.25978851e-01,  2.30625153e-01,\n",
       "        3.54980469e-01, -1.26598358e-01,  3.53183746e-02,  1.82243347e-01,\n",
       "        2.15341568e-01,  1.76073074e-01, -2.96745300e-02,  1.00051498e+00,\n",
       "        1.88274384e-01,  7.52128601e-01,  6.19808197e-01,  7.17811584e-01,\n",
       "        3.15568924e-01,  2.23503113e-02,  3.26431274e-01, -6.90078735e-03,\n",
       "        2.81518936e-01, -2.27947235e-02,  7.98473358e-02, -2.34985352e-03,\n",
       "        3.57082367e-01,  1.36505127e-01,  2.65731812e-01,  1.39999390e-02,\n",
       "        2.21076965e-01,  7.07359314e-01,  1.59587860e-01,  2.04471588e-01,\n",
       "        5.38223267e-01, -1.52629852e-01,  2.54764557e-01,  2.76435852e-01,\n",
       "        2.64005661e-01,  6.68754578e-02,  9.74357605e-01,  2.00037003e-01,\n",
       "        7.55771637e-01, -3.50399017e-02,  4.87653732e-01,  5.87844849e-03,\n",
       "       -7.24716187e-02,  3.05616379e-01, -2.05009460e-01,  1.90916061e-01,\n",
       "       -2.46429443e-02, -7.71675110e-02,  2.78913498e-01,  7.83882141e-02,\n",
       "        2.33856201e-01,  4.44866180e-01,  6.62422180e-02, -3.31134796e-02,\n",
       "        5.83168030e-01,  5.78823090e-02,  3.20442200e-01,  7.24205017e-01,\n",
       "        1.35375977e-01, -2.21195221e-02,  7.33066559e-01, -3.08292389e-01,\n",
       "        1.09130859e+00,  2.85928726e-01,  8.85051727e-01,  6.96620941e-01,\n",
       "        5.85290909e-01, -2.22854614e-02,  9.52098846e-01,  7.14954376e-01,\n",
       "        4.48490143e-01,  5.80459595e-01,  1.87118530e-01,  2.29598999e-01,\n",
       "       -5.77316284e-02,  3.15216064e-01,  8.74652863e-01, -1.67636871e-02,\n",
       "        2.52632141e-01, -3.35273743e-02, -4.40254211e-02,  4.13150787e-02,\n",
       "        2.35923767e-01,  2.03010559e-01,  8.82001877e-01,  5.87285995e-01,\n",
       "        1.20124817e-01, -2.02903748e-02, -1.93424225e-02,  1.03437424e-01,\n",
       "        8.31031799e-03,  2.29167938e-01, -1.69258118e-02,  7.15408325e-02,\n",
       "        1.62715912e-01,  1.70049667e-01,  2.46501923e-01,  1.47733688e-01,\n",
       "        3.91794205e-01, -6.66599274e-02,  1.15663528e-01,  1.84490204e-01,\n",
       "        9.07459259e-02, -1.80721283e-02,  2.09270477e-01, -1.30081177e-02,\n",
       "        5.46438217e-01,  4.15742874e-01,  1.78176880e-01,  1.71642303e-02,\n",
       "        4.93804932e-01,  1.47140503e-01,  5.24812698e-01,  5.98075867e-01,\n",
       "        3.08288574e-01,  3.09253693e-01,  4.46437836e-01,  1.68136597e-01,\n",
       "        2.60692596e-01,  7.56305695e-01,  4.06244278e-01,  4.90665436e-01,\n",
       "        5.14295578e-01, -1.30264282e-01,  7.89794922e-02,  3.50572586e-01,\n",
       "        1.00461960e+00,  2.73468018e-01,  6.35404587e-01,  5.78580856e-01,\n",
       "        4.68261719e-01,  3.78417969e-03,  3.58993530e-01,  6.74724579e-02,\n",
       "       -4.24098969e-02,  7.03325272e-01,  1.27115250e-01,  8.00031662e-01,\n",
       "        4.70815659e-01, -1.74713135e-02,  2.93731689e-02,  5.55213928e-01,\n",
       "        5.01251221e-02,  1.15333557e-01, -9.75990295e-03,  1.47506714e-01,\n",
       "        4.71147537e-01, -9.27810669e-02,  8.09173584e-02,  3.10516357e-02,\n",
       "        3.94783020e-01,  2.23684311e-01,  1.00333786e+00,  7.08086014e-01,\n",
       "        3.56063843e-01,  2.62968063e-01, -2.83813477e-02, -9.61303711e-03,\n",
       "        3.09658051e-02,  1.41675949e-01,  7.82146454e-02,  5.12563705e-01,\n",
       "        2.04780579e-01,  3.11714172e-01,  5.28507233e-01,  4.61902618e-01,\n",
       "        5.35526276e-02,  8.17276001e-01,  5.33868790e-01, -1.38168335e-01,\n",
       "        5.09433746e-01,  1.94173813e-01,  4.56184387e-01,  1.85203552e-01,\n",
       "        2.21933365e-01,  1.15556717e-01,  6.33411407e-02,  7.37209320e-02,\n",
       "        1.02443695e-01,  5.51395416e-01,  7.02953339e-01,  5.22064209e-01,\n",
       "        5.35087585e-01,  3.19557190e-02,  1.11154556e-01, -1.18644714e-01,\n",
       "        5.31829834e-01, -1.74373627e-01,  4.54471588e-01,  9.74403381e-01,\n",
       "        4.18167114e-01, -1.15982056e-01,  8.70653152e-01,  1.62223816e-01,\n",
       "        6.13035202e-01,  3.17165375e-01, -7.86571503e-02,  4.93968964e-01,\n",
       "        7.44888306e-01,  6.05583191e-02,  6.03294373e-02,  2.36856461e-01,\n",
       "        5.79223633e-01,  1.10746384e-01,  3.81748199e-01,  6.02218628e-01,\n",
       "        5.84449768e-02,  2.21788406e-01,  3.88944626e-01,  6.63639069e-01,\n",
       "        1.56091690e-01,  3.97312164e-01,  5.80135345e-01,  5.03818512e-01,\n",
       "        1.06449127e-01,  1.49744034e-01,  2.33251572e-01, -3.36456299e-03,\n",
       "       -2.86312103e-02,  2.65964508e-01,  2.60602951e-01, -6.16493225e-02,\n",
       "        1.46188736e-01,  8.24810028e-01,  5.68435669e-01, -9.56382751e-02,\n",
       "       -1.02464676e-01,  8.49914551e-02,  1.61573410e-01, -7.93266296e-02,\n",
       "        9.43885803e-01,  7.94086456e-02,  3.38403702e-01,  1.57938004e-01,\n",
       "       -6.92939758e-02,  2.15065002e-01,  4.78824615e-01,  2.15702057e-02,\n",
       "        5.34391403e-01,  1.42560959e-01, -1.58437729e-01,  1.00021362e-02,\n",
       "        2.26741791e-01,  3.34737778e-01,  6.04324341e-02, -2.08683014e-02,\n",
       "       -1.07879639e-01,  3.34327698e-01,  5.10112762e-01,  3.45930099e-01,\n",
       "       -8.67080688e-02, -4.99439240e-02,  5.05315781e-01,  8.22658539e-02,\n",
       "        6.73942566e-02,  3.23196411e-01,  3.38199615e-01,  5.37288666e-01,\n",
       "        2.91835785e-01,  3.30446243e-01, -4.09832001e-02,  8.27476501e-01,\n",
       "        6.03412628e-01,  2.36759186e-01,  7.02304840e-01,  4.44669724e-01,\n",
       "        5.81142426e-01,  1.90097809e-01,  5.45425415e-02,  9.38301086e-02,\n",
       "       -6.77318573e-02,  1.05983734e-01, -2.49557495e-02, -2.94628143e-02,\n",
       "        6.55841827e-02,  9.60521698e-02,  1.03334427e-01,  1.77722931e-01,\n",
       "        1.02128983e-01,  6.64039612e-01,  1.97700500e-01,  1.04736328e-01,\n",
       "        1.13409042e-01, -3.24954987e-02,  1.46595001e-01,  4.64979172e-01,\n",
       "        7.55500793e-01,  2.03929901e-01,  4.90066528e-01, -1.01360321e-01,\n",
       "        6.61636353e-01,  7.53425598e-01,  9.01067734e-01,  7.72960663e-01,\n",
       "        2.73353577e-01,  2.98076630e-01,  1.87145233e-01,  7.19894409e-01,\n",
       "        2.29751587e-01,  3.34693909e-01,  8.51554871e-01,  3.06663513e-02,\n",
       "       -3.74603271e-03, -7.81383514e-02,  7.49820709e-01,  2.04612732e-01,\n",
       "        4.05925751e-01,  3.32307816e-01,  1.82022095e-01,  8.23390961e-01,\n",
       "        5.03215790e-01,  6.34006500e-01, -5.07946014e-02,  4.25910950e-02,\n",
       "        1.11085892e-01,  1.89239502e-01,  6.00982666e-01,  4.09078598e-01,\n",
       "        6.87738419e-01,  2.89836884e-01, -9.21115875e-02,  4.46586609e-02,\n",
       "        1.98957443e-01,  6.18936539e-01,  1.41870499e-01,  6.98890686e-01,\n",
       "        3.11927795e-01,  1.26909256e-01,  8.11473846e-01,  6.24198914e-02,\n",
       "       -1.04434967e-01,  6.60362244e-02,  1.23786926e-01,  5.18692017e-01,\n",
       "       -5.96580505e-02,  6.39728546e-01, -1.29241943e-02,  3.83987427e-02,\n",
       "       -1.04955673e-01,  1.96514130e-01,  3.36025238e-01,  4.87991333e-01,\n",
       "        1.93758011e-01,  7.93201447e-01,  1.69399261e-01,  8.56361389e-02,\n",
       "        1.68670654e-01,  1.73168182e-01,  3.23772430e-02,  4.69255447e-01,\n",
       "        2.03083038e-01,  8.46683502e-01,  4.20907974e-01,  2.17891693e-01,\n",
       "        1.81167603e-01,  1.54932022e-01,  7.26291656e-01,  4.45259094e-01,\n",
       "        4.87558365e-01,  1.01575851e-01,  4.13135529e-01, -1.13229752e-01,\n",
       "        1.79405212e-01, -9.70840454e-03,  1.39038086e-01,  1.11997604e-01,\n",
       "        6.09634399e-01,  2.16255188e-02,  1.88268661e-01, -1.35349274e-01,\n",
       "        7.06508636e-01,  4.33135986e-01, -5.83724976e-02,  9.28741455e-01,\n",
       "        5.40618896e-01, -1.61743164e-03,  9.18989182e-01, -2.19135284e-02,\n",
       "        1.65393829e-01,  1.77856445e-01,  4.72911835e-01, -2.87246704e-03,\n",
       "        4.00394440e-01,  1.41830444e-02,  1.95419312e-01, -6.79893494e-02,\n",
       "        5.87230682e-01,  1.92455292e-01,  2.33253479e-01,  2.73632050e-01,\n",
       "        9.40734863e-01,  7.10142136e-01,  1.33436203e-01,  7.36942291e-02,\n",
       "        5.58242798e-02, -2.26339340e-01,  4.10385132e-02,  5.17311096e-02,\n",
       "        3.09638977e-02,  2.93567657e-01,  9.69352722e-01,  7.98671722e-01,\n",
       "       -2.29988098e-02,  5.26142120e-02,  2.64801025e-01,  1.75148010e-01,\n",
       "        7.06314087e-01,  1.73778534e-01,  3.44306946e-01])"
      ]
     },
     "execution_count": 21,
     "metadata": {},
     "output_type": "execute_result"
    }
   ],
   "source": [
    "#  Now we use the predict method on the testing data (x_test) and save it to the array predictions\n",
    "\n",
    "predictions = LinearReg.predict(X_test)\n",
    "predictions"
   ]
  },
  {
   "cell_type": "code",
   "execution_count": 22,
   "id": "fbfd6b4e",
   "metadata": {},
   "outputs": [
    {
     "name": "stdout",
     "output_type": "stream",
     "text": [
      "Mean Absolute Error (MAE): 0.2563204088283859\n",
      "Mean Squared Error (MSE): 0.11572334269886034\n",
      "R-squared (R2) score: 0.42711844478239436\n"
     ]
    }
   ],
   "source": [
    "# Using the predictions and the y_test dataframe to calculate the value for each metric using the appropriate function\n",
    "\n",
    "from sklearn.metrics import mean_squared_error, mean_absolute_error, r2_score\n",
    "\n",
    "LinearRegression_MAE = mean_absolute_error(y_test, predictions)\n",
    "print(f'Mean Absolute Error (MAE): {LinearRegression_MAE}')\n",
    "LinearRegression_MSE = mean_squared_error(y_test, predictions)\n",
    "print(f'Mean Squared Error (MSE): {LinearRegression_MSE}')\n",
    "LinearRegression_R2 = r2_score(y_test, predictions)\n",
    "print(f'R-squared (R2) score: {LinearRegression_R2}')"
   ]
  },
  {
   "cell_type": "code",
   "execution_count": 23,
   "id": "54772868",
   "metadata": {},
   "outputs": [],
   "source": [
    "# Showing the MAE, MSE, and R2 in a tabular format using data frame for the linear model.\n",
    "\n",
    "import pandas as pd\n",
    "\n",
    "# Calculate Mean Squared Error (MSE), Mean Absolute Error (MAE), and R-squared (R2)\n",
    "LinearRegression_MSE = mean_squared_error(y_test, predictions)\n",
    "LinearRegression_MAE = mean_absolute_error(y_test, predictions)\n",
    "LinearRegression_R2 = r2_score(y_test, predictions)"
   ]
  },
  {
   "cell_type": "code",
   "execution_count": 24,
   "id": "51250543",
   "metadata": {},
   "outputs": [
    {
     "name": "stdout",
     "output_type": "stream",
     "text": [
      "                      Metric     Value\n",
      "0   Mean Squared Error (MSE)  0.115723\n",
      "1  Mean Absolute Error (MAE)  0.256320\n",
      "2             R-squared (R2)  0.427118\n"
     ]
    }
   ],
   "source": [
    "# Create a DataFrame to display the metrics\n",
    "Report = pd.DataFrame({\n",
    "    'Metric': ['Mean Squared Error (MSE)', 'Mean Absolute Error (MAE)', 'R-squared (R2)'],\n",
    "    'Value': [LinearRegression_MSE, LinearRegression_MAE, LinearRegression_R2]\n",
    "})\n",
    "\n",
    "# Display the DataFrame\n",
    "print(Report)"
   ]
  },
  {
   "cell_type": "code",
   "execution_count": 25,
   "id": "8983c0a7",
   "metadata": {},
   "outputs": [
    {
     "data": {
      "text/html": [
       "<style>#sk-container-id-2 {color: black;background-color: white;}#sk-container-id-2 pre{padding: 0;}#sk-container-id-2 div.sk-toggleable {background-color: white;}#sk-container-id-2 label.sk-toggleable__label {cursor: pointer;display: block;width: 100%;margin-bottom: 0;padding: 0.3em;box-sizing: border-box;text-align: center;}#sk-container-id-2 label.sk-toggleable__label-arrow:before {content: \"▸\";float: left;margin-right: 0.25em;color: #696969;}#sk-container-id-2 label.sk-toggleable__label-arrow:hover:before {color: black;}#sk-container-id-2 div.sk-estimator:hover label.sk-toggleable__label-arrow:before {color: black;}#sk-container-id-2 div.sk-toggleable__content {max-height: 0;max-width: 0;overflow: hidden;text-align: left;background-color: #f0f8ff;}#sk-container-id-2 div.sk-toggleable__content pre {margin: 0.2em;color: black;border-radius: 0.25em;background-color: #f0f8ff;}#sk-container-id-2 input.sk-toggleable__control:checked~div.sk-toggleable__content {max-height: 200px;max-width: 100%;overflow: auto;}#sk-container-id-2 input.sk-toggleable__control:checked~label.sk-toggleable__label-arrow:before {content: \"▾\";}#sk-container-id-2 div.sk-estimator input.sk-toggleable__control:checked~label.sk-toggleable__label {background-color: #d4ebff;}#sk-container-id-2 div.sk-label input.sk-toggleable__control:checked~label.sk-toggleable__label {background-color: #d4ebff;}#sk-container-id-2 input.sk-hidden--visually {border: 0;clip: rect(1px 1px 1px 1px);clip: rect(1px, 1px, 1px, 1px);height: 1px;margin: -1px;overflow: hidden;padding: 0;position: absolute;width: 1px;}#sk-container-id-2 div.sk-estimator {font-family: monospace;background-color: #f0f8ff;border: 1px dotted black;border-radius: 0.25em;box-sizing: border-box;margin-bottom: 0.5em;}#sk-container-id-2 div.sk-estimator:hover {background-color: #d4ebff;}#sk-container-id-2 div.sk-parallel-item::after {content: \"\";width: 100%;border-bottom: 1px solid gray;flex-grow: 1;}#sk-container-id-2 div.sk-label:hover label.sk-toggleable__label {background-color: #d4ebff;}#sk-container-id-2 div.sk-serial::before {content: \"\";position: absolute;border-left: 1px solid gray;box-sizing: border-box;top: 0;bottom: 0;left: 50%;z-index: 0;}#sk-container-id-2 div.sk-serial {display: flex;flex-direction: column;align-items: center;background-color: white;padding-right: 0.2em;padding-left: 0.2em;position: relative;}#sk-container-id-2 div.sk-item {position: relative;z-index: 1;}#sk-container-id-2 div.sk-parallel {display: flex;align-items: stretch;justify-content: center;background-color: white;position: relative;}#sk-container-id-2 div.sk-item::before, #sk-container-id-2 div.sk-parallel-item::before {content: \"\";position: absolute;border-left: 1px solid gray;box-sizing: border-box;top: 0;bottom: 0;left: 50%;z-index: -1;}#sk-container-id-2 div.sk-parallel-item {display: flex;flex-direction: column;z-index: 1;position: relative;background-color: white;}#sk-container-id-2 div.sk-parallel-item:first-child::after {align-self: flex-end;width: 50%;}#sk-container-id-2 div.sk-parallel-item:last-child::after {align-self: flex-start;width: 50%;}#sk-container-id-2 div.sk-parallel-item:only-child::after {width: 0;}#sk-container-id-2 div.sk-dashed-wrapped {border: 1px dashed gray;margin: 0 0.4em 0.5em 0.4em;box-sizing: border-box;padding-bottom: 0.4em;background-color: white;}#sk-container-id-2 div.sk-label label {font-family: monospace;font-weight: bold;display: inline-block;line-height: 1.2em;}#sk-container-id-2 div.sk-label-container {text-align: center;}#sk-container-id-2 div.sk-container {/* jupyter's `normalize.less` sets `[hidden] { display: none; }` but bootstrap.min.css set `[hidden] { display: none !important; }` so we also need the `!important` here to be able to override the default hidden behavior on the sphinx rendered scikit-learn.org. See: https://github.com/scikit-learn/scikit-learn/issues/21755 */display: inline-block !important;position: relative;}#sk-container-id-2 div.sk-text-repr-fallback {display: none;}</style><div id=\"sk-container-id-2\" class=\"sk-top-container\"><div class=\"sk-text-repr-fallback\"><pre>KNeighborsClassifier(n_neighbors=4)</pre><b>In a Jupyter environment, please rerun this cell to show the HTML representation or trust the notebook. <br />On GitHub, the HTML representation is unable to render, please try loading this page with nbviewer.org.</b></div><div class=\"sk-container\" hidden><div class=\"sk-item\"><div class=\"sk-estimator sk-toggleable\"><input class=\"sk-toggleable__control sk-hidden--visually\" id=\"sk-estimator-id-2\" type=\"checkbox\" checked><label for=\"sk-estimator-id-2\" class=\"sk-toggleable__label sk-toggleable__label-arrow\">KNeighborsClassifier</label><div class=\"sk-toggleable__content\"><pre>KNeighborsClassifier(n_neighbors=4)</pre></div></div></div></div></div>"
      ],
      "text/plain": [
       "KNeighborsClassifier(n_neighbors=4)"
      ]
     },
     "execution_count": 25,
     "metadata": {},
     "output_type": "execute_result"
    }
   ],
   "source": [
    "# Creating and training a KNN model called KNN using the training data (x_train, y_train) with the n_neighbors parameter set to 4\n",
    "\n",
    "from sklearn.neighbors import KNeighborsClassifier\n",
    "\n",
    "# Create a KNN model with n_neighbors set to 4\n",
    "KNN = KNeighborsClassifier(n_neighbors=4)\n",
    "\n",
    "# Train the model using the training data\n",
    "KNN.fit(X_train, y_train)"
   ]
  },
  {
   "cell_type": "code",
   "execution_count": 26,
   "id": "c5aa1943",
   "metadata": {},
   "outputs": [
    {
     "data": {
      "text/plain": [
       "array([0., 0., 1., 0., 0., 0., 0., 1., 1., 0., 0., 0., 0., 0., 0., 0., 0.,\n",
       "       0., 0., 0., 0., 1., 0., 0., 0., 0., 0., 0., 1., 0., 0., 0., 0., 0.,\n",
       "       0., 1., 0., 0., 0., 0., 0., 1., 0., 0., 0., 0., 0., 0., 1., 0., 0.,\n",
       "       0., 0., 0., 0., 0., 0., 0., 0., 0., 0., 0., 1., 1., 0., 0., 0., 0.,\n",
       "       0., 0., 0., 0., 0., 0., 0., 0., 0., 0., 0., 1., 0., 0., 0., 0., 0.,\n",
       "       0., 0., 0., 0., 0., 0., 0., 0., 0., 0., 1., 0., 1., 0., 0., 0., 0.,\n",
       "       1., 0., 1., 1., 0., 0., 0., 1., 0., 0., 0., 0., 0., 0., 0., 0., 0.,\n",
       "       0., 0., 0., 0., 0., 0., 0., 0., 0., 0., 1., 0., 0., 0., 0., 1., 0.,\n",
       "       0., 0., 0., 1., 0., 0., 0., 0., 1., 0., 0., 0., 0., 1., 0., 0., 0.,\n",
       "       0., 0., 0., 0., 1., 0., 1., 1., 0., 0., 0., 0., 0., 0., 0., 1., 0.,\n",
       "       1., 0., 0., 0., 0., 0., 0., 0., 0., 0., 1., 0., 0., 1., 0., 0., 0.,\n",
       "       0., 0., 0., 0., 0., 0., 0., 0., 0., 0., 0., 0., 0., 0., 0., 0., 0.,\n",
       "       1., 0., 0., 0., 0., 0., 1., 1., 0., 0., 0., 0., 0., 0., 0., 0., 1.,\n",
       "       0., 0., 0., 0., 0., 0., 0., 0., 0., 0., 0., 0., 1., 1., 0., 0., 1.,\n",
       "       1., 0., 1., 1., 0., 0., 1., 0., 0., 0., 0., 0., 0., 0., 0., 0., 0.,\n",
       "       1., 0., 1., 1., 1., 0., 0., 0., 0., 0., 0., 0., 0., 0., 0., 0., 0.,\n",
       "       0., 1., 0., 0., 0., 0., 0., 0., 0., 0., 1., 0., 0., 0., 0., 0., 0.,\n",
       "       0., 0., 0., 0., 0., 0., 0., 0., 1., 0., 0., 1., 0., 0., 0., 0., 0.,\n",
       "       1., 0., 1., 0., 1., 1., 0., 0., 1., 0., 0., 0., 1., 0., 0., 1., 1.,\n",
       "       0., 0., 0., 0., 0., 0., 0., 1., 0., 0., 0., 0., 0., 0., 0., 0., 0.,\n",
       "       0., 0., 0., 0., 0., 0., 0., 0., 0., 0., 0., 0., 1., 0., 0., 0., 0.,\n",
       "       0., 1., 1., 1., 0., 1., 0., 0., 1., 0., 0., 0., 0., 0., 0., 1., 0.,\n",
       "       0., 1., 0., 0., 0., 0., 0., 0., 0., 1., 0., 0., 0., 1., 0., 0., 0.,\n",
       "       0., 1., 0., 0., 0., 0., 0., 1., 1., 0., 0., 0., 0., 0., 0., 0., 0.,\n",
       "       0., 0., 0., 1., 0., 1., 0., 0., 0., 0., 0., 0., 0., 0., 0., 0., 0.,\n",
       "       1., 0., 0., 1., 0., 0., 0., 1., 0., 0., 1., 0., 0., 1., 0., 0., 0.,\n",
       "       0., 0., 1., 0., 0., 0., 0., 0., 0., 1., 0., 0., 0., 0., 0., 0., 0.,\n",
       "       0., 0., 1., 0., 0., 0., 0., 0., 0., 0., 1., 0., 0., 0., 0., 0., 0.,\n",
       "       1., 0., 0., 0., 0., 0., 0., 0., 0., 0., 0., 0., 0., 0., 0., 0., 0.,\n",
       "       0., 1., 0., 0., 0., 0., 0., 0., 0., 0., 0., 0., 0., 0., 1., 0., 0.,\n",
       "       0., 0., 0., 0., 0., 0., 0., 0., 0., 0., 0., 0., 0., 0., 0., 1., 0.,\n",
       "       0., 0., 0., 0., 0., 1., 0., 0., 0., 1., 1., 1., 1., 0., 0., 0., 1.,\n",
       "       0., 0., 1., 0., 0., 0., 0., 0., 0., 0., 0., 1., 0., 1., 0., 0., 0.,\n",
       "       0., 0., 0., 1., 0., 0., 0., 0., 1., 0., 0., 0., 0., 1., 0., 0., 0.,\n",
       "       0., 0., 0., 0., 0., 0., 0., 0., 0., 0., 0., 1., 0., 0., 0., 0., 0.,\n",
       "       0., 0., 1., 0., 0., 0., 0., 1., 0., 0., 0., 0., 0., 0., 0., 0., 0.,\n",
       "       1., 0., 0., 0., 1., 0., 0., 1., 0., 0., 1., 0., 0., 0., 0., 0., 0.,\n",
       "       0., 0., 0., 1., 0., 0., 0., 1., 1., 0., 0., 0., 0., 0., 0., 0., 0.,\n",
       "       1., 1., 0., 0., 0., 0., 1., 0., 1.])"
      ]
     },
     "execution_count": 26,
     "metadata": {},
     "output_type": "execute_result"
    }
   ],
   "source": [
    "#  Using the predict method on the testing data (x_test) and save it to the array predictions.\n",
    "\n",
    "predictions_knn = KNN.predict(X_test)\n",
    "predictions_knn"
   ]
  },
  {
   "cell_type": "code",
   "execution_count": 27,
   "id": "1ae33af2",
   "metadata": {},
   "outputs": [
    {
     "name": "stdout",
     "output_type": "stream",
     "text": [
      "Accuracy: 0.8183206106870229\n",
      "KNN Jaccard Index: 0.4251207729468599\n",
      "KNN F1 Score: 0.5966101694915255\n"
     ]
    }
   ],
   "source": [
    "# Using the predictions and the y_test dataframe to calculate the value for each metric using the appropriate function.\n",
    "\n",
    "from sklearn.metrics import accuracy_score, jaccard_score, f1_score\n",
    "\n",
    "# Calculate Accuracy\n",
    "KNN_Accuracy_Score = accuracy_score(y_test, predictions_knn)\n",
    "print(f'Accuracy: {KNN_Accuracy_Score}')\n",
    "\n",
    "\n",
    "# Calculate Jaccard Index\n",
    "KNN_jaccard_index = jaccard_score(y_test, predictions_knn, pos_label=1)\n",
    "print(f'KNN Jaccard Index: {KNN_jaccard_index}')\n",
    "\n",
    "\n",
    "# Calculate F1 Score\n",
    "KNN_F1_Score = f1_score(y_test, predictions_knn, average='binary')\n",
    "print(f'KNN F1 Score: {KNN_F1_Score}')"
   ]
  },
  {
   "cell_type": "code",
   "execution_count": 28,
   "id": "bd8e03ea",
   "metadata": {},
   "outputs": [
    {
     "data": {
      "text/html": [
       "<style>#sk-container-id-3 {color: black;background-color: white;}#sk-container-id-3 pre{padding: 0;}#sk-container-id-3 div.sk-toggleable {background-color: white;}#sk-container-id-3 label.sk-toggleable__label {cursor: pointer;display: block;width: 100%;margin-bottom: 0;padding: 0.3em;box-sizing: border-box;text-align: center;}#sk-container-id-3 label.sk-toggleable__label-arrow:before {content: \"▸\";float: left;margin-right: 0.25em;color: #696969;}#sk-container-id-3 label.sk-toggleable__label-arrow:hover:before {color: black;}#sk-container-id-3 div.sk-estimator:hover label.sk-toggleable__label-arrow:before {color: black;}#sk-container-id-3 div.sk-toggleable__content {max-height: 0;max-width: 0;overflow: hidden;text-align: left;background-color: #f0f8ff;}#sk-container-id-3 div.sk-toggleable__content pre {margin: 0.2em;color: black;border-radius: 0.25em;background-color: #f0f8ff;}#sk-container-id-3 input.sk-toggleable__control:checked~div.sk-toggleable__content {max-height: 200px;max-width: 100%;overflow: auto;}#sk-container-id-3 input.sk-toggleable__control:checked~label.sk-toggleable__label-arrow:before {content: \"▾\";}#sk-container-id-3 div.sk-estimator input.sk-toggleable__control:checked~label.sk-toggleable__label {background-color: #d4ebff;}#sk-container-id-3 div.sk-label input.sk-toggleable__control:checked~label.sk-toggleable__label {background-color: #d4ebff;}#sk-container-id-3 input.sk-hidden--visually {border: 0;clip: rect(1px 1px 1px 1px);clip: rect(1px, 1px, 1px, 1px);height: 1px;margin: -1px;overflow: hidden;padding: 0;position: absolute;width: 1px;}#sk-container-id-3 div.sk-estimator {font-family: monospace;background-color: #f0f8ff;border: 1px dotted black;border-radius: 0.25em;box-sizing: border-box;margin-bottom: 0.5em;}#sk-container-id-3 div.sk-estimator:hover {background-color: #d4ebff;}#sk-container-id-3 div.sk-parallel-item::after {content: \"\";width: 100%;border-bottom: 1px solid gray;flex-grow: 1;}#sk-container-id-3 div.sk-label:hover label.sk-toggleable__label {background-color: #d4ebff;}#sk-container-id-3 div.sk-serial::before {content: \"\";position: absolute;border-left: 1px solid gray;box-sizing: border-box;top: 0;bottom: 0;left: 50%;z-index: 0;}#sk-container-id-3 div.sk-serial {display: flex;flex-direction: column;align-items: center;background-color: white;padding-right: 0.2em;padding-left: 0.2em;position: relative;}#sk-container-id-3 div.sk-item {position: relative;z-index: 1;}#sk-container-id-3 div.sk-parallel {display: flex;align-items: stretch;justify-content: center;background-color: white;position: relative;}#sk-container-id-3 div.sk-item::before, #sk-container-id-3 div.sk-parallel-item::before {content: \"\";position: absolute;border-left: 1px solid gray;box-sizing: border-box;top: 0;bottom: 0;left: 50%;z-index: -1;}#sk-container-id-3 div.sk-parallel-item {display: flex;flex-direction: column;z-index: 1;position: relative;background-color: white;}#sk-container-id-3 div.sk-parallel-item:first-child::after {align-self: flex-end;width: 50%;}#sk-container-id-3 div.sk-parallel-item:last-child::after {align-self: flex-start;width: 50%;}#sk-container-id-3 div.sk-parallel-item:only-child::after {width: 0;}#sk-container-id-3 div.sk-dashed-wrapped {border: 1px dashed gray;margin: 0 0.4em 0.5em 0.4em;box-sizing: border-box;padding-bottom: 0.4em;background-color: white;}#sk-container-id-3 div.sk-label label {font-family: monospace;font-weight: bold;display: inline-block;line-height: 1.2em;}#sk-container-id-3 div.sk-label-container {text-align: center;}#sk-container-id-3 div.sk-container {/* jupyter's `normalize.less` sets `[hidden] { display: none; }` but bootstrap.min.css set `[hidden] { display: none !important; }` so we also need the `!important` here to be able to override the default hidden behavior on the sphinx rendered scikit-learn.org. See: https://github.com/scikit-learn/scikit-learn/issues/21755 */display: inline-block !important;position: relative;}#sk-container-id-3 div.sk-text-repr-fallback {display: none;}</style><div id=\"sk-container-id-3\" class=\"sk-top-container\"><div class=\"sk-text-repr-fallback\"><pre>DecisionTreeClassifier()</pre><b>In a Jupyter environment, please rerun this cell to show the HTML representation or trust the notebook. <br />On GitHub, the HTML representation is unable to render, please try loading this page with nbviewer.org.</b></div><div class=\"sk-container\" hidden><div class=\"sk-item\"><div class=\"sk-estimator sk-toggleable\"><input class=\"sk-toggleable__control sk-hidden--visually\" id=\"sk-estimator-id-3\" type=\"checkbox\" checked><label for=\"sk-estimator-id-3\" class=\"sk-toggleable__label sk-toggleable__label-arrow\">DecisionTreeClassifier</label><div class=\"sk-toggleable__content\"><pre>DecisionTreeClassifier()</pre></div></div></div></div></div>"
      ],
      "text/plain": [
       "DecisionTreeClassifier()"
      ]
     },
     "execution_count": 28,
     "metadata": {},
     "output_type": "execute_result"
    }
   ],
   "source": [
    "# Create and train a Decision Tree model called Tree using the training data (x_train, y_train).\n",
    "\n",
    "from sklearn.tree import DecisionTreeClassifier\n",
    "\n",
    "# Create a Decision Tree model\n",
    "Tree = DecisionTreeClassifier()\n",
    "\n",
    "# Train the model using the training data\n",
    "Tree.fit(X_train, y_train) "
   ]
  },
  {
   "cell_type": "code",
   "execution_count": 29,
   "id": "c26c913a",
   "metadata": {},
   "outputs": [
    {
     "data": {
      "text/plain": [
       "array([0., 0., 1., 0., 0., 1., 0., 1., 1., 1., 0., 0., 0., 0., 0., 0., 0.,\n",
       "       1., 0., 0., 0., 1., 0., 0., 0., 1., 0., 0., 1., 0., 0., 0., 0., 0.,\n",
       "       0., 1., 0., 0., 0., 0., 0., 0., 0., 0., 0., 1., 0., 0., 1., 0., 0.,\n",
       "       0., 0., 0., 0., 0., 0., 0., 1., 1., 0., 0., 1., 1., 0., 0., 1., 0.,\n",
       "       0., 0., 0., 0., 0., 0., 0., 0., 1., 0., 0., 1., 0., 0., 0., 0., 1.,\n",
       "       0., 1., 1., 1., 0., 0., 0., 0., 0., 0., 1., 0., 1., 0., 0., 0., 0.,\n",
       "       1., 0., 1., 1., 0., 1., 0., 1., 1., 0., 0., 0., 0., 0., 0., 1., 0.,\n",
       "       0., 0., 0., 0., 0., 0., 0., 1., 1., 0., 1., 1., 0., 1., 0., 0., 0.,\n",
       "       0., 0., 0., 1., 1., 0., 0., 0., 1., 0., 0., 0., 0., 0., 0., 1., 0.,\n",
       "       0., 0., 0., 0., 1., 0., 1., 1., 0., 0., 0., 0., 0., 0., 0., 0., 0.,\n",
       "       1., 0., 0., 0., 0., 0., 0., 0., 0., 0., 1., 0., 0., 1., 0., 0., 0.,\n",
       "       0., 1., 0., 0., 1., 0., 0., 0., 0., 0., 0., 0., 0., 1., 0., 0., 0.,\n",
       "       1., 0., 0., 0., 0., 1., 0., 0., 1., 0., 0., 0., 0., 0., 1., 0., 1.,\n",
       "       0., 0., 0., 0., 1., 1., 0., 0., 1., 1., 0., 1., 1., 1., 0., 0., 1.,\n",
       "       1., 0., 1., 1., 0., 0., 0., 0., 1., 0., 0., 1., 0., 0., 0., 1., 0.,\n",
       "       1., 1., 0., 1., 1., 1., 0., 0., 0., 0., 0., 0., 0., 1., 0., 0., 0.,\n",
       "       0., 1., 1., 0., 1., 0., 0., 0., 0., 0., 1., 0., 1., 0., 0., 0., 0.,\n",
       "       0., 0., 0., 0., 0., 0., 0., 0., 1., 0., 1., 1., 0., 0., 0., 0., 0.,\n",
       "       1., 0., 1., 0., 1., 1., 0., 0., 1., 0., 1., 0., 0., 1., 0., 0., 1.,\n",
       "       0., 0., 0., 0., 0., 0., 1., 1., 0., 0., 0., 0., 0., 0., 1., 0., 0.,\n",
       "       0., 0., 0., 0., 0., 0., 0., 0., 0., 0., 0., 0., 1., 0., 0., 0., 0.,\n",
       "       0., 1., 0., 0., 0., 1., 1., 1., 1., 1., 1., 1., 1., 1., 0., 1., 1.,\n",
       "       0., 1., 0., 0., 0., 0., 0., 1., 0., 1., 1., 0., 0., 0., 0., 0., 0.,\n",
       "       0., 1., 0., 0., 0., 1., 0., 1., 1., 0., 0., 0., 1., 1., 0., 0., 0.,\n",
       "       0., 0., 1., 0., 0., 1., 0., 0., 0., 0., 1., 0., 0., 0., 0., 0., 0.,\n",
       "       1., 1., 0., 1., 0., 0., 0., 0., 0., 1., 1., 0., 0., 1., 0., 1., 0.,\n",
       "       0., 1., 1., 0., 0., 0., 1., 0., 0., 0., 0., 0., 0., 0., 1., 0., 1.,\n",
       "       0., 0., 1., 0., 0., 0., 0., 0., 0., 0., 1., 0., 0., 0., 1., 1., 0.,\n",
       "       1., 0., 1., 0., 1., 0., 0., 0., 0., 0., 0., 0., 0., 0., 0., 0., 0.,\n",
       "       0., 1., 0., 0., 0., 1., 0., 0., 1., 1., 0., 0., 0., 0., 0., 1., 0.,\n",
       "       0., 0., 0., 1., 1., 0., 0., 0., 0., 0., 0., 0., 1., 0., 0., 1., 0.,\n",
       "       0., 0., 0., 0., 1., 1., 1., 0., 0., 1., 1., 1., 1., 0., 1., 0., 1.,\n",
       "       0., 0., 1., 1., 0., 0., 0., 0., 0., 0., 1., 1., 0., 0., 0., 0., 0.,\n",
       "       1., 1., 1., 1., 0., 0., 0., 0., 0., 0., 0., 1., 0., 1., 0., 0., 0.,\n",
       "       0., 0., 0., 1., 0., 0., 0., 1., 1., 0., 0., 1., 0., 0., 0., 0., 0.,\n",
       "       0., 0., 1., 0., 0., 0., 0., 1., 0., 0., 0., 1., 0., 1., 0., 0., 0.,\n",
       "       1., 0., 1., 0., 1., 0., 0., 1., 1., 0., 1., 0., 0., 0., 1., 0., 0.,\n",
       "       0., 0., 0., 1., 0., 0., 0., 1., 1., 0., 1., 0., 0., 0., 0., 0., 0.,\n",
       "       1., 1., 0., 0., 0., 0., 1., 0., 0.])"
      ]
     },
     "execution_count": 29,
     "metadata": {},
     "output_type": "execute_result"
    }
   ],
   "source": [
    "# Use the trained Decision Tree model to make predictions on the testing data and save it to the array predictions\n",
    "predictions_tree = Tree.predict(X_test)\n",
    "\n",
    "predictions_tree"
   ]
  },
  {
   "cell_type": "code",
   "execution_count": 30,
   "id": "5183cd4c",
   "metadata": {},
   "outputs": [
    {
     "name": "stdout",
     "output_type": "stream",
     "text": [
      "Tree Accuracy Score: 0.751145038167939\n",
      "Tree Jaccard Index: 0.3917910447761194\n",
      "Tree F1 Score: 0.5630026809651475\n"
     ]
    }
   ],
   "source": [
    "#  Using the predictions and the y_test dataframe calculate the value for each metric using the appropriate function.\n",
    "\n",
    "from sklearn.metrics import accuracy_score, jaccard_score, f1_score\n",
    "\n",
    "# Calculate Accuracy Score\n",
    "Tree_Accuracy_Score = accuracy_score(y_test, predictions_tree)\n",
    "print(f'Tree Accuracy Score: {Tree_Accuracy_Score}')\n",
    "\n",
    "# Calculate Jaccard Index\n",
    "Tree_JaccardIndex =  jaccard_score(y_test, predictions_tree, pos_label=1)\n",
    "print(f'Tree Jaccard Index: {Tree_JaccardIndex}')\n",
    "\n",
    "# Calculate F1 Score\n",
    "Tree_F1_Score  = f1_score(y_test, predictions_tree, average='binary')\n",
    "print(f'Tree F1 Score: {Tree_F1_Score}')\n"
   ]
  },
  {
   "cell_type": "code",
   "execution_count": 31,
   "id": "a2d65013",
   "metadata": {},
   "outputs": [],
   "source": [
    "#  Using the train_test_split function to split the features and Y dataframes with a test_size of 0.2 and the random_state set to 1\n",
    "\n",
    "from sklearn.model_selection import train_test_split\n",
    "\n",
    "# Split the data into training and testing sets\n",
    "\n",
    "x_train, x_test, y_train, y_test = train_test_split(features, Y, test_size=0.2, random_state=1)"
   ]
  },
  {
   "cell_type": "code",
   "execution_count": 32,
   "id": "19a63a3f",
   "metadata": {},
   "outputs": [
    {
     "data": {
      "text/html": [
       "<style>#sk-container-id-4 {color: black;background-color: white;}#sk-container-id-4 pre{padding: 0;}#sk-container-id-4 div.sk-toggleable {background-color: white;}#sk-container-id-4 label.sk-toggleable__label {cursor: pointer;display: block;width: 100%;margin-bottom: 0;padding: 0.3em;box-sizing: border-box;text-align: center;}#sk-container-id-4 label.sk-toggleable__label-arrow:before {content: \"▸\";float: left;margin-right: 0.25em;color: #696969;}#sk-container-id-4 label.sk-toggleable__label-arrow:hover:before {color: black;}#sk-container-id-4 div.sk-estimator:hover label.sk-toggleable__label-arrow:before {color: black;}#sk-container-id-4 div.sk-toggleable__content {max-height: 0;max-width: 0;overflow: hidden;text-align: left;background-color: #f0f8ff;}#sk-container-id-4 div.sk-toggleable__content pre {margin: 0.2em;color: black;border-radius: 0.25em;background-color: #f0f8ff;}#sk-container-id-4 input.sk-toggleable__control:checked~div.sk-toggleable__content {max-height: 200px;max-width: 100%;overflow: auto;}#sk-container-id-4 input.sk-toggleable__control:checked~label.sk-toggleable__label-arrow:before {content: \"▾\";}#sk-container-id-4 div.sk-estimator input.sk-toggleable__control:checked~label.sk-toggleable__label {background-color: #d4ebff;}#sk-container-id-4 div.sk-label input.sk-toggleable__control:checked~label.sk-toggleable__label {background-color: #d4ebff;}#sk-container-id-4 input.sk-hidden--visually {border: 0;clip: rect(1px 1px 1px 1px);clip: rect(1px, 1px, 1px, 1px);height: 1px;margin: -1px;overflow: hidden;padding: 0;position: absolute;width: 1px;}#sk-container-id-4 div.sk-estimator {font-family: monospace;background-color: #f0f8ff;border: 1px dotted black;border-radius: 0.25em;box-sizing: border-box;margin-bottom: 0.5em;}#sk-container-id-4 div.sk-estimator:hover {background-color: #d4ebff;}#sk-container-id-4 div.sk-parallel-item::after {content: \"\";width: 100%;border-bottom: 1px solid gray;flex-grow: 1;}#sk-container-id-4 div.sk-label:hover label.sk-toggleable__label {background-color: #d4ebff;}#sk-container-id-4 div.sk-serial::before {content: \"\";position: absolute;border-left: 1px solid gray;box-sizing: border-box;top: 0;bottom: 0;left: 50%;z-index: 0;}#sk-container-id-4 div.sk-serial {display: flex;flex-direction: column;align-items: center;background-color: white;padding-right: 0.2em;padding-left: 0.2em;position: relative;}#sk-container-id-4 div.sk-item {position: relative;z-index: 1;}#sk-container-id-4 div.sk-parallel {display: flex;align-items: stretch;justify-content: center;background-color: white;position: relative;}#sk-container-id-4 div.sk-item::before, #sk-container-id-4 div.sk-parallel-item::before {content: \"\";position: absolute;border-left: 1px solid gray;box-sizing: border-box;top: 0;bottom: 0;left: 50%;z-index: -1;}#sk-container-id-4 div.sk-parallel-item {display: flex;flex-direction: column;z-index: 1;position: relative;background-color: white;}#sk-container-id-4 div.sk-parallel-item:first-child::after {align-self: flex-end;width: 50%;}#sk-container-id-4 div.sk-parallel-item:last-child::after {align-self: flex-start;width: 50%;}#sk-container-id-4 div.sk-parallel-item:only-child::after {width: 0;}#sk-container-id-4 div.sk-dashed-wrapped {border: 1px dashed gray;margin: 0 0.4em 0.5em 0.4em;box-sizing: border-box;padding-bottom: 0.4em;background-color: white;}#sk-container-id-4 div.sk-label label {font-family: monospace;font-weight: bold;display: inline-block;line-height: 1.2em;}#sk-container-id-4 div.sk-label-container {text-align: center;}#sk-container-id-4 div.sk-container {/* jupyter's `normalize.less` sets `[hidden] { display: none; }` but bootstrap.min.css set `[hidden] { display: none !important; }` so we also need the `!important` here to be able to override the default hidden behavior on the sphinx rendered scikit-learn.org. See: https://github.com/scikit-learn/scikit-learn/issues/21755 */display: inline-block !important;position: relative;}#sk-container-id-4 div.sk-text-repr-fallback {display: none;}</style><div id=\"sk-container-id-4\" class=\"sk-top-container\"><div class=\"sk-text-repr-fallback\"><pre>LogisticRegression(solver=&#x27;liblinear&#x27;)</pre><b>In a Jupyter environment, please rerun this cell to show the HTML representation or trust the notebook. <br />On GitHub, the HTML representation is unable to render, please try loading this page with nbviewer.org.</b></div><div class=\"sk-container\" hidden><div class=\"sk-item\"><div class=\"sk-estimator sk-toggleable\"><input class=\"sk-toggleable__control sk-hidden--visually\" id=\"sk-estimator-id-4\" type=\"checkbox\" checked><label for=\"sk-estimator-id-4\" class=\"sk-toggleable__label sk-toggleable__label-arrow\">LogisticRegression</label><div class=\"sk-toggleable__content\"><pre>LogisticRegression(solver=&#x27;liblinear&#x27;)</pre></div></div></div></div></div>"
      ],
      "text/plain": [
       "LogisticRegression(solver='liblinear')"
      ]
     },
     "execution_count": 32,
     "metadata": {},
     "output_type": "execute_result"
    }
   ],
   "source": [
    "from sklearn.linear_model import LogisticRegression\n",
    "\n",
    "# Create a Logistic Regression model with solver set to 'liblinear'\n",
    "LR = LogisticRegression(solver='liblinear')\n",
    "\n",
    "# Train the model using the training data\n",
    "LR.fit(X_train, y_train)"
   ]
  },
  {
   "cell_type": "code",
   "execution_count": 33,
   "id": "63304019",
   "metadata": {},
   "outputs": [],
   "source": [
    "# Use the trained Logistic Regression model to make predictions on the testing data\n",
    "\n",
    "predictions = LR.predict(X_test)"
   ]
  },
  {
   "cell_type": "code",
   "execution_count": 34,
   "id": "484b4308",
   "metadata": {},
   "outputs": [],
   "source": [
    "# Use the trained Logistic Regression model to obtain probability estimates on the testing data\n",
    "\n",
    "predict_proba = LR.predict_proba(X_test)[:, 1]"
   ]
  },
  {
   "cell_type": "code",
   "execution_count": 35,
   "id": "a4a6638c",
   "metadata": {},
   "outputs": [
    {
     "name": "stdout",
     "output_type": "stream",
     "text": [
      "LR Accuracy Score: 0.7221374045801526\n",
      "LR Jaccard Index: 0.0\n",
      "LR F1 Score: 0.0\n",
      "LR Log Loss: 0.6097874399122829\n"
     ]
    }
   ],
   "source": [
    "# sing the predictions, predict_proba and the y_test dataframe calculate the value for each metric using the appropriate function\n",
    "\n",
    "from sklearn.metrics import accuracy_score, jaccard_score, f1_score, log_loss\n",
    "\n",
    "# Calculate Accuracy Score\n",
    "LR_Accuracy_Score = accuracy_score(y_test, predictions)\n",
    "print(f'LR Accuracy Score: {LR_Accuracy_Score}')\n",
    "\n",
    "# Calculate Jaccard Index\n",
    "LR_JaccardIndex = jaccard_score(y_test, predictions, pos_label=1)\n",
    "print(f'LR Jaccard Index: {LR_JaccardIndex}')\n",
    "\n",
    "# Calculate F1 Score\n",
    "LR_F1_Score = f1_score(y_test, predictions, average='binary')\n",
    "print(f'LR F1 Score: {LR_F1_Score}')\n",
    "\n",
    "# Calculate Log Loss\n",
    "LR_Log_Loss =  log_loss(y_test, predict_proba)\n",
    "print(f'LR Log Loss: {LR_Log_Loss}')"
   ]
  },
  {
   "cell_type": "code",
   "execution_count": 36,
   "id": "22316652",
   "metadata": {},
   "outputs": [
    {
     "data": {
      "text/html": [
       "<style>#sk-container-id-5 {color: black;background-color: white;}#sk-container-id-5 pre{padding: 0;}#sk-container-id-5 div.sk-toggleable {background-color: white;}#sk-container-id-5 label.sk-toggleable__label {cursor: pointer;display: block;width: 100%;margin-bottom: 0;padding: 0.3em;box-sizing: border-box;text-align: center;}#sk-container-id-5 label.sk-toggleable__label-arrow:before {content: \"▸\";float: left;margin-right: 0.25em;color: #696969;}#sk-container-id-5 label.sk-toggleable__label-arrow:hover:before {color: black;}#sk-container-id-5 div.sk-estimator:hover label.sk-toggleable__label-arrow:before {color: black;}#sk-container-id-5 div.sk-toggleable__content {max-height: 0;max-width: 0;overflow: hidden;text-align: left;background-color: #f0f8ff;}#sk-container-id-5 div.sk-toggleable__content pre {margin: 0.2em;color: black;border-radius: 0.25em;background-color: #f0f8ff;}#sk-container-id-5 input.sk-toggleable__control:checked~div.sk-toggleable__content {max-height: 200px;max-width: 100%;overflow: auto;}#sk-container-id-5 input.sk-toggleable__control:checked~label.sk-toggleable__label-arrow:before {content: \"▾\";}#sk-container-id-5 div.sk-estimator input.sk-toggleable__control:checked~label.sk-toggleable__label {background-color: #d4ebff;}#sk-container-id-5 div.sk-label input.sk-toggleable__control:checked~label.sk-toggleable__label {background-color: #d4ebff;}#sk-container-id-5 input.sk-hidden--visually {border: 0;clip: rect(1px 1px 1px 1px);clip: rect(1px, 1px, 1px, 1px);height: 1px;margin: -1px;overflow: hidden;padding: 0;position: absolute;width: 1px;}#sk-container-id-5 div.sk-estimator {font-family: monospace;background-color: #f0f8ff;border: 1px dotted black;border-radius: 0.25em;box-sizing: border-box;margin-bottom: 0.5em;}#sk-container-id-5 div.sk-estimator:hover {background-color: #d4ebff;}#sk-container-id-5 div.sk-parallel-item::after {content: \"\";width: 100%;border-bottom: 1px solid gray;flex-grow: 1;}#sk-container-id-5 div.sk-label:hover label.sk-toggleable__label {background-color: #d4ebff;}#sk-container-id-5 div.sk-serial::before {content: \"\";position: absolute;border-left: 1px solid gray;box-sizing: border-box;top: 0;bottom: 0;left: 50%;z-index: 0;}#sk-container-id-5 div.sk-serial {display: flex;flex-direction: column;align-items: center;background-color: white;padding-right: 0.2em;padding-left: 0.2em;position: relative;}#sk-container-id-5 div.sk-item {position: relative;z-index: 1;}#sk-container-id-5 div.sk-parallel {display: flex;align-items: stretch;justify-content: center;background-color: white;position: relative;}#sk-container-id-5 div.sk-item::before, #sk-container-id-5 div.sk-parallel-item::before {content: \"\";position: absolute;border-left: 1px solid gray;box-sizing: border-box;top: 0;bottom: 0;left: 50%;z-index: -1;}#sk-container-id-5 div.sk-parallel-item {display: flex;flex-direction: column;z-index: 1;position: relative;background-color: white;}#sk-container-id-5 div.sk-parallel-item:first-child::after {align-self: flex-end;width: 50%;}#sk-container-id-5 div.sk-parallel-item:last-child::after {align-self: flex-start;width: 50%;}#sk-container-id-5 div.sk-parallel-item:only-child::after {width: 0;}#sk-container-id-5 div.sk-dashed-wrapped {border: 1px dashed gray;margin: 0 0.4em 0.5em 0.4em;box-sizing: border-box;padding-bottom: 0.4em;background-color: white;}#sk-container-id-5 div.sk-label label {font-family: monospace;font-weight: bold;display: inline-block;line-height: 1.2em;}#sk-container-id-5 div.sk-label-container {text-align: center;}#sk-container-id-5 div.sk-container {/* jupyter's `normalize.less` sets `[hidden] { display: none; }` but bootstrap.min.css set `[hidden] { display: none !important; }` so we also need the `!important` here to be able to override the default hidden behavior on the sphinx rendered scikit-learn.org. See: https://github.com/scikit-learn/scikit-learn/issues/21755 */display: inline-block !important;position: relative;}#sk-container-id-5 div.sk-text-repr-fallback {display: none;}</style><div id=\"sk-container-id-5\" class=\"sk-top-container\"><div class=\"sk-text-repr-fallback\"><pre>SVC()</pre><b>In a Jupyter environment, please rerun this cell to show the HTML representation or trust the notebook. <br />On GitHub, the HTML representation is unable to render, please try loading this page with nbviewer.org.</b></div><div class=\"sk-container\" hidden><div class=\"sk-item\"><div class=\"sk-estimator sk-toggleable\"><input class=\"sk-toggleable__control sk-hidden--visually\" id=\"sk-estimator-id-5\" type=\"checkbox\" checked><label for=\"sk-estimator-id-5\" class=\"sk-toggleable__label sk-toggleable__label-arrow\">SVC</label><div class=\"sk-toggleable__content\"><pre>SVC()</pre></div></div></div></div></div>"
      ],
      "text/plain": [
       "SVC()"
      ]
     },
     "execution_count": 36,
     "metadata": {},
     "output_type": "execute_result"
    }
   ],
   "source": [
    "from sklearn.svm import SVC\n",
    "\n",
    "# Create an SVM model\n",
    "SVM = SVC()\n",
    "\n",
    "# Train the model using the training data\n",
    "SVM.fit(X_train, y_train)"
   ]
  },
  {
   "cell_type": "code",
   "execution_count": 37,
   "id": "d9e3d76a",
   "metadata": {},
   "outputs": [
    {
     "data": {
      "text/plain": [
       "array([0., 0., 0., 0., 0., 0., 0., 0., 0., 0., 0., 0., 0., 0., 0., 0., 0.,\n",
       "       0., 0., 0., 0., 0., 0., 0., 0., 0., 0., 0., 0., 0., 0., 0., 0., 0.,\n",
       "       0., 0., 0., 0., 0., 0., 0., 0., 0., 0., 0., 0., 0., 0., 0., 0., 0.,\n",
       "       0., 0., 0., 0., 0., 0., 0., 0., 0., 0., 0., 0., 0., 0., 0., 0., 0.,\n",
       "       0., 0., 0., 0., 0., 0., 0., 0., 0., 0., 0., 0., 0., 0., 0., 0., 0.,\n",
       "       0., 0., 0., 0., 0., 0., 0., 0., 0., 0., 0., 0., 0., 0., 0., 0., 0.,\n",
       "       0., 0., 0., 0., 0., 0., 0., 0., 0., 0., 0., 0., 0., 0., 0., 0., 0.,\n",
       "       0., 0., 0., 0., 0., 0., 0., 0., 0., 0., 0., 0., 0., 0., 0., 0., 0.,\n",
       "       0., 0., 0., 0., 0., 0., 0., 0., 0., 0., 0., 0., 0., 0., 0., 0., 0.,\n",
       "       0., 0., 0., 0., 0., 0., 0., 0., 0., 0., 0., 0., 0., 0., 0., 0., 0.,\n",
       "       0., 0., 0., 0., 0., 0., 0., 0., 0., 0., 0., 0., 0., 0., 0., 0., 0.,\n",
       "       0., 0., 0., 0., 0., 0., 0., 0., 0., 0., 0., 0., 0., 0., 0., 0., 0.,\n",
       "       0., 0., 0., 0., 0., 0., 0., 0., 0., 0., 0., 0., 0., 0., 0., 0., 0.,\n",
       "       0., 0., 0., 0., 0., 0., 0., 0., 0., 0., 0., 0., 0., 0., 0., 0., 0.,\n",
       "       0., 0., 0., 0., 0., 0., 0., 0., 0., 0., 0., 0., 0., 0., 0., 0., 0.,\n",
       "       0., 0., 0., 0., 0., 0., 0., 0., 0., 0., 0., 0., 0., 0., 0., 0., 0.,\n",
       "       0., 0., 0., 0., 0., 0., 0., 0., 0., 0., 0., 0., 0., 0., 0., 0., 0.,\n",
       "       0., 0., 0., 0., 0., 0., 0., 0., 0., 0., 0., 0., 0., 0., 0., 0., 0.,\n",
       "       0., 0., 0., 0., 0., 0., 0., 0., 0., 0., 0., 0., 0., 0., 0., 0., 0.,\n",
       "       0., 0., 0., 0., 0., 0., 0., 0., 0., 0., 0., 0., 0., 0., 0., 0., 0.,\n",
       "       0., 0., 0., 0., 0., 0., 0., 0., 0., 0., 0., 0., 0., 0., 0., 0., 0.,\n",
       "       0., 0., 0., 0., 0., 0., 0., 0., 0., 0., 0., 0., 0., 0., 0., 0., 0.,\n",
       "       0., 0., 0., 0., 0., 0., 0., 0., 0., 0., 0., 0., 0., 0., 0., 0., 0.,\n",
       "       0., 0., 0., 0., 0., 0., 0., 0., 0., 0., 0., 0., 0., 0., 0., 0., 0.,\n",
       "       0., 0., 0., 0., 0., 0., 0., 0., 0., 0., 0., 0., 0., 0., 0., 0., 0.,\n",
       "       0., 0., 0., 0., 0., 0., 0., 0., 0., 0., 0., 0., 0., 0., 0., 0., 0.,\n",
       "       0., 0., 0., 0., 0., 0., 0., 0., 0., 0., 0., 0., 0., 0., 0., 0., 0.,\n",
       "       0., 0., 0., 0., 0., 0., 0., 0., 0., 0., 0., 0., 0., 0., 0., 0., 0.,\n",
       "       0., 0., 0., 0., 0., 0., 0., 0., 0., 0., 0., 0., 0., 0., 0., 0., 0.,\n",
       "       0., 0., 0., 0., 0., 0., 0., 0., 0., 0., 0., 0., 0., 0., 0., 0., 0.,\n",
       "       0., 0., 0., 0., 0., 0., 0., 0., 0., 0., 0., 0., 0., 0., 0., 0., 0.,\n",
       "       0., 0., 0., 0., 0., 0., 0., 0., 0., 0., 0., 0., 0., 0., 0., 0., 0.,\n",
       "       0., 0., 0., 0., 0., 0., 0., 0., 0., 0., 0., 0., 0., 0., 0., 0., 0.,\n",
       "       0., 0., 0., 0., 0., 0., 0., 0., 0., 0., 0., 0., 0., 0., 0., 0., 0.,\n",
       "       0., 0., 0., 0., 0., 0., 0., 0., 0., 0., 0., 0., 0., 0., 0., 0., 0.,\n",
       "       0., 0., 0., 0., 0., 0., 0., 0., 0., 0., 0., 0., 0., 0., 0., 0., 0.,\n",
       "       0., 0., 0., 0., 0., 0., 0., 0., 0., 0., 0., 0., 0., 0., 0., 0., 0.,\n",
       "       0., 0., 0., 0., 0., 0., 0., 0., 0., 0., 0., 0., 0., 0., 0., 0., 0.,\n",
       "       0., 0., 0., 0., 0., 0., 0., 0., 0.])"
      ]
     },
     "execution_count": 37,
     "metadata": {},
     "output_type": "execute_result"
    }
   ],
   "source": [
    "# Use the trained SVM model to make predictions on the testing data\n",
    "\n",
    "predictions = SVM.predict(X_test)\n",
    "predictions"
   ]
  },
  {
   "cell_type": "code",
   "execution_count": 38,
   "id": "2065aba6",
   "metadata": {},
   "outputs": [
    {
     "name": "stdout",
     "output_type": "stream",
     "text": [
      "SVM Accuracy Score: 0.7221374045801526\n",
      "SVM Jaccard Index: 0.0\n",
      "SVM F1 Score: 0.0\n"
     ]
    }
   ],
   "source": [
    "# Using the predictions and the y_test dataframe to calculate the value for each metric using the appropriate function.\n",
    "\n",
    "from sklearn.metrics import accuracy_score, jaccard_score, f1_score\n",
    "\n",
    "# Calculate Accuracy Score\n",
    "SVM_Accuracy_Score =  accuracy_score(y_test, predictions)\n",
    "print(f'SVM Accuracy Score: {SVM_Accuracy_Score }')\n",
    "\n",
    "# Calculate Jaccard Index\n",
    "SVM_JaccardIndex = jaccard_score(y_test, predictions, pos_label=1)\n",
    "print(f'SVM Jaccard Index: {SVM_JaccardIndex}')\n",
    "\n",
    "# Calculate F1 Score\n",
    "SVM_F1_Score = f1_score(y_test, predictions, average='binary')\n",
    "print(f'SVM F1 Score: {SVM_F1_Score}')"
   ]
  },
  {
   "cell_type": "code",
   "execution_count": 39,
   "id": "49b9d629",
   "metadata": {},
   "outputs": [
    {
     "name": "stdout",
     "output_type": "stream",
     "text": [
      "                 Model  Accuracy  Jaccard Index  F1 Score  Log Loss\n",
      "0    Linear Regression  0.751145       0.000000  0.000000  0.000000\n",
      "1                  KNN  0.641221       0.109848  0.197952  0.000000\n",
      "2        Decision Tree  0.580153       0.148607  0.258760  0.000000\n",
      "3  Logistic Regression  0.722137       0.000000  0.000000  0.609787\n",
      "4                  SVM  0.722137       0.000000  0.000000  0.000000\n"
     ]
    }
   ],
   "source": [
    "# To show the Accuracy,Jaccard Index,F1-Score and LogLoss in a tabular format using data frame for all of the above models.\n",
    "# LogLoss is only for Logistic Regression Model\n",
    "\n",
    "# Create a DataFrame for metrics\n",
    "Report = {\n",
    "    'Model': ['Linear Regression', 'KNN', 'Decision Tree', 'Logistic Regression', 'SVM'],\n",
    "    'Accuracy': [Tree_Accuracy_Score, accuracy_score(y_test, predictions_knn),\n",
    "                 accuracy_score(y_test, predictions_tree), LR_Accuracy_Score, SVM_Accuracy_Score],\n",
    "    'Jaccard Index': [0, jaccard_score(y_test, predictions_knn, pos_label=1),\n",
    "                      jaccard_score(y_test, predictions_tree, pos_label=1), LR_JaccardIndex, SVM_JaccardIndex],\n",
    "    'F1 Score': [0, f1_score(y_test, predictions_knn, average='binary'),\n",
    "                 f1_score(y_test, predictions_tree, average='binary'), LR_F1_Score, SVM_F1_Score],\n",
    "    'Log Loss': [0, 0, 0, LR_Log_Loss, 0]\n",
    "}\n",
    "\n",
    "metrics_df = pd.DataFrame(Report)\n",
    "print(metrics_df)"
   ]
  },
  {
   "cell_type": "code",
   "execution_count": null,
   "id": "caae4151",
   "metadata": {},
   "outputs": [],
   "source": []
  }
 ],
 "metadata": {
  "kernelspec": {
   "display_name": "Python 3 (ipykernel)",
   "language": "python",
   "name": "python3"
  },
  "language_info": {
   "codemirror_mode": {
    "name": "ipython",
    "version": 3
   },
   "file_extension": ".py",
   "mimetype": "text/x-python",
   "name": "python",
   "nbconvert_exporter": "python",
   "pygments_lexer": "ipython3",
   "version": "3.10.9"
  }
 },
 "nbformat": 4,
 "nbformat_minor": 5
}
